{
 "cells": [
  {
   "cell_type": "code",
   "execution_count": 33,
   "metadata": {},
   "outputs": [],
   "source": [
    "import pandas as pd\n",
    "import numpy as np\n",
    "from sklearn.ensemble import RandomForestClassifier\n",
    "from sklearn.model_selection import train_test_split\n",
    "from sklearn.preprocessing import StandardScaler"
   ]
  },
  {
   "cell_type": "code",
   "execution_count": 34,
   "metadata": {},
   "outputs": [],
   "source": [
    "data = pd.read_csv(\"census_income_dataset.csv\",na_values=['?',-10000])"
   ]
  },
  {
   "cell_type": "code",
   "execution_count": 35,
   "metadata": {},
   "outputs": [
    {
     "data": {
      "text/plain": [
       "age                  0\n",
       "workclass         2799\n",
       "fnlwgt               0\n",
       "education            0\n",
       "education_num        0\n",
       "marital_status       0\n",
       "occupation        2809\n",
       "relationship         0\n",
       "race                 0\n",
       "sex                  0\n",
       "capital_gain         0\n",
       "capital_loss         0\n",
       "hours_per_week       0\n",
       "native_country     857\n",
       "income_level         0\n",
       "dtype: int64"
      ]
     },
     "execution_count": 35,
     "metadata": {},
     "output_type": "execute_result"
    }
   ],
   "source": [
    "data.isna().sum()"
   ]
  },
  {
   "cell_type": "code",
   "execution_count": 36,
   "metadata": {},
   "outputs": [
    {
     "data": {
      "text/html": [
       "<div>\n",
       "<style scoped>\n",
       "    .dataframe tbody tr th:only-of-type {\n",
       "        vertical-align: middle;\n",
       "    }\n",
       "\n",
       "    .dataframe tbody tr th {\n",
       "        vertical-align: top;\n",
       "    }\n",
       "\n",
       "    .dataframe thead th {\n",
       "        text-align: right;\n",
       "    }\n",
       "</style>\n",
       "<table border=\"1\" class=\"dataframe\">\n",
       "  <thead>\n",
       "    <tr style=\"text-align: right;\">\n",
       "      <th></th>\n",
       "      <th>age</th>\n",
       "      <th>fnlwgt</th>\n",
       "      <th>education_num</th>\n",
       "      <th>capital_gain</th>\n",
       "      <th>capital_loss</th>\n",
       "      <th>hours_per_week</th>\n",
       "    </tr>\n",
       "  </thead>\n",
       "  <tbody>\n",
       "    <tr>\n",
       "      <td>count</td>\n",
       "      <td>48842.000000</td>\n",
       "      <td>4.884200e+04</td>\n",
       "      <td>48842.000000</td>\n",
       "      <td>48842.000000</td>\n",
       "      <td>48842.000000</td>\n",
       "      <td>48842.000000</td>\n",
       "    </tr>\n",
       "    <tr>\n",
       "      <td>mean</td>\n",
       "      <td>38.643585</td>\n",
       "      <td>1.896641e+05</td>\n",
       "      <td>10.078089</td>\n",
       "      <td>1079.067626</td>\n",
       "      <td>87.502314</td>\n",
       "      <td>40.422382</td>\n",
       "    </tr>\n",
       "    <tr>\n",
       "      <td>std</td>\n",
       "      <td>13.710510</td>\n",
       "      <td>1.056040e+05</td>\n",
       "      <td>2.570973</td>\n",
       "      <td>7452.019058</td>\n",
       "      <td>403.004552</td>\n",
       "      <td>12.391444</td>\n",
       "    </tr>\n",
       "    <tr>\n",
       "      <td>min</td>\n",
       "      <td>17.000000</td>\n",
       "      <td>1.228500e+04</td>\n",
       "      <td>1.000000</td>\n",
       "      <td>0.000000</td>\n",
       "      <td>0.000000</td>\n",
       "      <td>1.000000</td>\n",
       "    </tr>\n",
       "    <tr>\n",
       "      <td>25%</td>\n",
       "      <td>28.000000</td>\n",
       "      <td>1.175505e+05</td>\n",
       "      <td>9.000000</td>\n",
       "      <td>0.000000</td>\n",
       "      <td>0.000000</td>\n",
       "      <td>40.000000</td>\n",
       "    </tr>\n",
       "    <tr>\n",
       "      <td>50%</td>\n",
       "      <td>37.000000</td>\n",
       "      <td>1.781445e+05</td>\n",
       "      <td>10.000000</td>\n",
       "      <td>0.000000</td>\n",
       "      <td>0.000000</td>\n",
       "      <td>40.000000</td>\n",
       "    </tr>\n",
       "    <tr>\n",
       "      <td>75%</td>\n",
       "      <td>48.000000</td>\n",
       "      <td>2.376420e+05</td>\n",
       "      <td>12.000000</td>\n",
       "      <td>0.000000</td>\n",
       "      <td>0.000000</td>\n",
       "      <td>45.000000</td>\n",
       "    </tr>\n",
       "    <tr>\n",
       "      <td>max</td>\n",
       "      <td>90.000000</td>\n",
       "      <td>1.490400e+06</td>\n",
       "      <td>16.000000</td>\n",
       "      <td>99999.000000</td>\n",
       "      <td>4356.000000</td>\n",
       "      <td>99.000000</td>\n",
       "    </tr>\n",
       "  </tbody>\n",
       "</table>\n",
       "</div>"
      ],
      "text/plain": [
       "                age        fnlwgt  education_num  capital_gain  capital_loss  \\\n",
       "count  48842.000000  4.884200e+04   48842.000000  48842.000000  48842.000000   \n",
       "mean      38.643585  1.896641e+05      10.078089   1079.067626     87.502314   \n",
       "std       13.710510  1.056040e+05       2.570973   7452.019058    403.004552   \n",
       "min       17.000000  1.228500e+04       1.000000      0.000000      0.000000   \n",
       "25%       28.000000  1.175505e+05       9.000000      0.000000      0.000000   \n",
       "50%       37.000000  1.781445e+05      10.000000      0.000000      0.000000   \n",
       "75%       48.000000  2.376420e+05      12.000000      0.000000      0.000000   \n",
       "max       90.000000  1.490400e+06      16.000000  99999.000000   4356.000000   \n",
       "\n",
       "       hours_per_week  \n",
       "count    48842.000000  \n",
       "mean        40.422382  \n",
       "std         12.391444  \n",
       "min          1.000000  \n",
       "25%         40.000000  \n",
       "50%         40.000000  \n",
       "75%         45.000000  \n",
       "max         99.000000  "
      ]
     },
     "execution_count": 36,
     "metadata": {},
     "output_type": "execute_result"
    }
   ],
   "source": [
    "data.describe()"
   ]
  },
  {
   "cell_type": "code",
   "execution_count": 37,
   "metadata": {},
   "outputs": [],
   "source": [
    "data.drop([\"fnlwgt\"],axis=1, inplace=True)"
   ]
  },
  {
   "cell_type": "code",
   "execution_count": 38,
   "metadata": {},
   "outputs": [],
   "source": [
    "data.drop([\"education\"],axis=1, inplace=True)"
   ]
  },
  {
   "cell_type": "code",
   "execution_count": 39,
   "metadata": {},
   "outputs": [],
   "source": [
    "data.drop([\"race\"],axis=1, inplace=True)"
   ]
  },
  {
   "cell_type": "code",
   "execution_count": 40,
   "metadata": {},
   "outputs": [
    {
     "data": {
      "text/plain": [
       "['age', 'education_num', 'capital_gain', 'capital_loss', 'hours_per_week']"
      ]
     },
     "execution_count": 40,
     "metadata": {},
     "output_type": "execute_result"
    }
   ],
   "source": [
    "num_var=list(data.dtypes[data.dtypes!=object].index)\n",
    "num_var"
   ]
  },
  {
   "cell_type": "code",
   "execution_count": 41,
   "metadata": {},
   "outputs": [
    {
     "data": {
      "text/plain": [
       "['workclass',\n",
       " 'marital_status',\n",
       " 'occupation',\n",
       " 'relationship',\n",
       " 'sex',\n",
       " 'native_country',\n",
       " 'income_level']"
      ]
     },
     "execution_count": 41,
     "metadata": {},
     "output_type": "execute_result"
    }
   ],
   "source": [
    "cat_var=list(data.dtypes[data.dtypes==object].index)\n",
    "cat_var"
   ]
  },
  {
   "cell_type": "code",
   "execution_count": 42,
   "metadata": {},
   "outputs": [],
   "source": [
    "for col in cat_var:\n",
    "    data[col].fillna(data[col].mode()[0],inplace=True)\n",
    "for col in num_var:\n",
    "    data[col].fillna(data[col].mean(),inplace=True)"
   ]
  },
  {
   "cell_type": "code",
   "execution_count": 43,
   "metadata": {},
   "outputs": [],
   "source": [
    "#Non-object types\n",
    "X=data[num_var]\n",
    "Y=data[\"income_level\"]\n",
    "X_train,X_test,Y_train,Y_test=train_test_split(X,Y,random_state=100,test_size=0.2)"
   ]
  },
  {
   "cell_type": "code",
   "execution_count": 44,
   "metadata": {},
   "outputs": [],
   "source": [
    "scaled_X_train=StandardScaler().fit(X_train).transform(X_train)"
   ]
  },
  {
   "cell_type": "code",
   "execution_count": 45,
   "metadata": {},
   "outputs": [
    {
     "data": {
      "text/plain": [
       "0.8276047398459294"
      ]
     },
     "execution_count": 45,
     "metadata": {},
     "output_type": "execute_result"
    }
   ],
   "source": [
    "model=RandomForestClassifier(n_estimators=1000,oob_score=True,n_jobs=-1)\n",
    "model.fit(scaled_X_train,Y_train)\n",
    "model.oob_score_"
   ]
  },
  {
   "cell_type": "code",
   "execution_count": 46,
   "metadata": {},
   "outputs": [
    {
     "data": {
      "text/plain": [
       "age               0.296704\n",
       "education_num     0.194297\n",
       "capital_gain      0.239873\n",
       "capital_loss      0.092628\n",
       "hours_per_week    0.176497\n",
       "dtype: float64"
      ]
     },
     "execution_count": 46,
     "metadata": {},
     "output_type": "execute_result"
    }
   ],
   "source": [
    "pd.Series(model.feature_importances_, index=X.columns)"
   ]
  },
  {
   "cell_type": "code",
   "execution_count": 47,
   "metadata": {},
   "outputs": [],
   "source": [
    "#Object types\n",
    "cat_var.remove(\"income_level\")\n",
    "X=data[cat_var]\n",
    "Y=data[\"income_level\"]\n",
    "#X_train,X_test,Y_train,Y_test=train_test_split(X,Y,random_state=100,test_size=0.2)"
   ]
  },
  {
   "cell_type": "code",
   "execution_count": 48,
   "metadata": {},
   "outputs": [
    {
     "data": {
      "text/plain": [
       "Private             36705\n",
       "Self-emp-not-inc     3862\n",
       "Local-gov            3136\n",
       "State-gov            1981\n",
       "Self-emp-inc         1695\n",
       "Federal-gov          1432\n",
       "Without-pay            21\n",
       "Never-worked           10\n",
       "Name: workclass, dtype: int64"
      ]
     },
     "execution_count": 48,
     "metadata": {},
     "output_type": "execute_result"
    }
   ],
   "source": [
    "data.workclass.value_counts()"
   ]
  },
  {
   "cell_type": "code",
   "execution_count": 49,
   "metadata": {},
   "outputs": [
    {
     "name": "stderr",
     "output_type": "stream",
     "text": [
      "C:\\Users\\ARAVIND NACHIAPPAN\\Anaconda3\\lib\\site-packages\\pandas\\core\\generic.py:6287: SettingWithCopyWarning: \n",
      "A value is trying to be set on a copy of a slice from a DataFrame\n",
      "\n",
      "See the caveats in the documentation: http://pandas.pydata.org/pandas-docs/stable/user_guide/indexing.html#returning-a-view-versus-a-copy\n",
      "  self._update_inplace(new_data)\n"
     ]
    }
   ],
   "source": [
    "for variable in cat_var:\n",
    "    X[variable].fillna(\"Missing\", inplace=True)\n",
    "    dummies = pd.get_dummies(X[variable], prefix=variable)\n",
    "    X = pd.concat([X, dummies], axis=1)\n",
    "    X.drop([variable], axis=1, inplace=True)"
   ]
  },
  {
   "cell_type": "code",
   "execution_count": 50,
   "metadata": {},
   "outputs": [
    {
     "data": {
      "text/plain": [
       "0        78\n",
       "1        78\n",
       "2        78\n",
       "3        78\n",
       "4        78\n",
       "         ..\n",
       "48837    78\n",
       "48838    78\n",
       "48839    78\n",
       "48840    78\n",
       "48841    78\n",
       "Length: 48842, dtype: int64"
      ]
     },
     "execution_count": 50,
     "metadata": {},
     "output_type": "execute_result"
    }
   ],
   "source": [
    "X.count(axis='columns')"
   ]
  },
  {
   "cell_type": "code",
   "execution_count": 51,
   "metadata": {},
   "outputs": [],
   "source": [
    "X_train,X_test,Y_train,Y_test=train_test_split(X,Y,random_state=100,test_size=0.2)"
   ]
  },
  {
   "cell_type": "code",
   "execution_count": 52,
   "metadata": {},
   "outputs": [],
   "source": [
    "scaler=StandardScaler()\n",
    "scaled_X_train=scaler.fit_transform(X_train)\n",
    "scaled_X_test=scaler.transform(X_test)"
   ]
  },
  {
   "cell_type": "code",
   "execution_count": 29,
   "metadata": {},
   "outputs": [
    {
     "data": {
      "image/png": "[encoded data removed]",
      "text/plain": [
       "<Figure size 432x288 with 1 Axes>"
      ]
     },
     "metadata": {
      "needs_background": "light"
     },
     "output_type": "display_data"
    }
   ],
   "source": [
    "from sklearn.decomposition import PCA\n",
    "pca=PCA().fit(scaled_X_train)\n",
    "import matplotlib.pyplot as plt\n",
    "%matplotlib inline\n",
    "plt.figure()\n",
    "plt.xlabel('No. of components')\n",
    "plt.ylabel('Variance')\n",
    "plt.plot(list(range(0,78)),np.cumsum(pca.explained_variance_ratio_))\n",
    "plt.show()"
   ]
  },
  {
   "cell_type": "code",
   "execution_count": 30,
   "metadata": {},
   "outputs": [
    {
     "data": {
      "text/plain": [
       "array([0.05284665, 0.08133023, 0.10728612, 0.12989196, 0.15059986,\n",
       "       0.16846282, 0.18564815, 0.20197509, 0.21777546, 0.23283004,\n",
       "       0.24747683, 0.26199621, 0.27641898, 0.29052627, 0.30455882,\n",
       "       0.31842249, 0.33219397, 0.34592424, 0.35941314, 0.37287095,\n",
       "       0.38619974, 0.39933974, 0.41241668, 0.4254429 , 0.43838476,\n",
       "       0.45129002, 0.46416028, 0.47702352, 0.48988242, 0.5027357 ,\n",
       "       0.51558545, 0.52843058, 0.54127372, 0.55411458, 0.56695417,\n",
       "       0.57979123, 0.59262706, 0.60546186, 0.61829652, 0.63112823,\n",
       "       0.64395975, 0.65679017, 0.66961818, 0.68244542, 0.69526926,\n",
       "       0.70808537, 0.72089913, 0.73370589, 0.74648819, 0.75924735,\n",
       "       0.77199102, 0.78471328, 0.79741874, 0.81008736, 0.82274075,\n",
       "       0.83534052, 0.84785847, 0.86029622, 0.87269619, 0.8850278 ,\n",
       "       0.89714172, 0.90904403, 0.92071692, 0.93236346, 0.94370948,\n",
       "       0.95490287, 0.96582624, 0.97581588, 0.9846073 , 0.9927836 ,\n",
       "       0.999735  , 1.        , 1.        , 1.        , 1.        ,\n",
       "       1.        , 1.        , 1.        ])"
      ]
     },
     "execution_count": 30,
     "metadata": {},
     "output_type": "execute_result"
    }
   ],
   "source": [
    "np.cumsum(pca.explained_variance_ratio_)"
   ]
  },
  {
   "cell_type": "code",
   "execution_count": 31,
   "metadata": {},
   "outputs": [],
   "source": [
    "\"\"\"pca=PCA(n_components=73)\n",
    "scaled_X_train=pca.fit_transform(scaled_X_train)\n",
    "scaled_X_test=pca.transform(scaled_X_test)\"\"\""
   ]
  },
  {
   "cell_type": "code",
   "execution_count": 53,
   "metadata": {},
   "outputs": [
    {
     "data": {
      "text/plain": [
       "0.8121209019015688"
      ]
     },
     "execution_count": 53,
     "metadata": {},
     "output_type": "execute_result"
    }
   ],
   "source": [
    "model=RandomForestClassifier(n_estimators=1000,oob_score=True,n_jobs=-1)\n",
    "model.fit(scaled_X_train,Y_train)\n",
    "model.oob_score_"
   ]
  },
  {
   "cell_type": "code",
   "execution_count": 54,
   "metadata": {},
   "outputs": [
    {
     "data": {
      "text/plain": [
       "array([9.52770366e-03, 7.66947447e-03, 1.78525544e-04, 1.83395076e-02,\n",
       "       1.72410170e-02, 1.56609166e-02, 6.10456882e-03, 5.17679924e-04,\n",
       "       1.61604722e-02, 6.51393978e-04, 1.85824154e-01, 2.54100701e-03,\n",
       "       7.04550955e-02, 4.89079155e-03, 4.84897910e-03, 8.65151102e-03,\n",
       "       3.72905019e-04, 1.73003940e-02, 7.78863806e-02, 1.46701714e-02,\n",
       "       1.35969246e-02, 1.60156892e-02, 3.22160683e-02, 7.09766201e-04,\n",
       "       4.26520050e-02, 4.73015528e-03, 1.46864523e-02, 1.01385089e-02,\n",
       "       1.15122357e-02, 1.25705213e-01, 3.13414833e-02, 6.35185349e-03,\n",
       "       3.69508472e-02, 1.50900211e-02, 2.76640302e-02, 2.31308169e-02,\n",
       "       2.50032947e-02, 1.34329892e-03, 4.43512800e-03, 2.16787078e-03,\n",
       "       1.31965682e-03, 2.38955339e-03, 1.65296064e-03, 6.02552933e-04,\n",
       "       1.36622571e-03, 2.85505795e-03, 1.25429439e-03, 3.67317337e-03,\n",
       "       1.77014857e-03, 8.58575984e-04, 1.06551325e-03, 1.02889331e-08,\n",
       "       1.01556154e-04, 5.75243855e-04, 1.31230948e-03, 3.37442070e-03,\n",
       "       1.73176945e-03, 1.80062658e-03, 2.55998777e-03, 1.92803234e-03,\n",
       "       2.17284120e-03, 4.59888162e-04, 1.11984462e-02, 5.02431783e-04,\n",
       "       3.44851636e-04, 4.80047164e-04, 4.42313159e-03, 1.44836829e-03,\n",
       "       1.06207073e-03, 2.46790074e-03, 5.03974630e-04, 2.52573954e-03,\n",
       "       1.49784190e-03, 4.45818039e-04, 4.40510138e-04, 1.06239537e-02,\n",
       "       1.29964751e-03, 9.76555421e-04])"
      ]
     },
     "execution_count": 54,
     "metadata": {},
     "output_type": "execute_result"
    }
   ],
   "source": [
    "model.feature_importances_\n"
   ]
  },
  {
   "cell_type": "code",
   "execution_count": 55,
   "metadata": {},
   "outputs": [
    {
     "data": {
      "text/plain": [
       "workclass_Federal-gov             0.009528\n",
       "workclass_Local-gov               0.007669\n",
       "workclass_Never-worked            0.000179\n",
       "workclass_Private                 0.018340\n",
       "workclass_Self-emp-inc            0.017241\n",
       "                                    ...   \n",
       "native_country_Thailand           0.000446\n",
       "native_country_Trinadad&Tobago    0.000441\n",
       "native_country_United-States      0.010624\n",
       "native_country_Vietnam            0.001300\n",
       "native_country_Yugoslavia         0.000977\n",
       "Length: 78, dtype: float64"
      ]
     },
     "execution_count": 55,
     "metadata": {},
     "output_type": "execute_result"
    }
   ],
   "source": [
    "pd.Series(model.feature_importances_, index=X.columns)"
   ]
  },
  {
   "cell_type": "code",
   "execution_count": 57,
   "metadata": {},
   "outputs": [
    {
     "data": {
      "text/plain": [
       "['age',\n",
       " 'education_num',\n",
       " 'capital_gain',\n",
       " 'capital_loss',\n",
       " 'hours_per_week',\n",
       " 'workclass',\n",
       " 'marital_status',\n",
       " 'occupation',\n",
       " 'relationship',\n",
       " 'sex',\n",
       " 'native_country']"
      ]
     },
     "execution_count": 57,
     "metadata": {},
     "output_type": "execute_result"
    }
   ],
   "source": [
    "finalvars=[]\n",
    "for x in num_var:\n",
    "    finalvars.append(x)\n",
    "\n",
    "for x in cat_var:\n",
    "    finalvars.append(x)\n",
    "finalvars"
   ]
  },
  {
   "cell_type": "code",
   "execution_count": 61,
   "metadata": {},
   "outputs": [
    {
     "name": "stderr",
     "output_type": "stream",
     "text": [
      "C:\\Users\\ARAVIND NACHIAPPAN\\Anaconda3\\lib\\site-packages\\pandas\\core\\generic.py:6287: SettingWithCopyWarning: \n",
      "A value is trying to be set on a copy of a slice from a DataFrame\n",
      "\n",
      "See the caveats in the documentation: http://pandas.pydata.org/pandas-docs/stable/user_guide/indexing.html#returning-a-view-versus-a-copy\n",
      "  self._update_inplace(new_data)\n"
     ]
    }
   ],
   "source": [
    "X=data[finalvars]\n",
    "Y=data[\"income_level\"]\n",
    "for variable in cat_var:\n",
    "    X[variable].fillna(\"Missing\", inplace=True)\n",
    "    dummies = pd.get_dummies(X[variable], prefix=variable)\n",
    "    X = pd.concat([X, dummies], axis=1)\n",
    "    X.drop([variable], axis=1, inplace=True)\n",
    "X_train,X_test,Y_train,Y_test=train_test_split(X,Y,random_state=100,test_size=0.2)\n",
    "scaler=StandardScaler()\n",
    "scaled_X_train=scaler.fit_transform(X_train)\n",
    "scaled_X_test=scaler.transform(X_test)"
   ]
  },
  {
   "cell_type": "code",
   "execution_count": 62,
   "metadata": {},
   "outputs": [
    {
     "name": "stdout",
     "output_type": "stream",
     "text": [
      "30  trees\n",
      "OOB Score:  0.8446753512655798\n",
      "50  trees\n",
      "OOB Score:  0.846313310982008\n",
      "100  trees\n",
      "OOB Score:  0.8489494024006347\n",
      "150  trees\n",
      "OOB Score:  0.8483863537481126\n",
      "200  trees\n",
      "OOB Score:  0.8495124510531569\n",
      "1000  trees\n",
      "OOB Score:  0.8500243134645408\n",
      "2000  trees\n",
      "OOB Score:  0.8501266859468175\n",
      "3000  trees\n",
      "OOB Score:  0.850331430911371\n"
     ]
    }
   ],
   "source": [
    "n_trees=[30,50,100,150,200,1000,2000,3000]\n",
    "for trees in n_trees:\n",
    "    model=RandomForestClassifier(n_estimators=trees,n_jobs=-1,oob_score=True)\n",
    "    model.fit(scaled_X_train,Y_train)\n",
    "    print(trees,' trees')\n",
    "    OOB=model.oob_score_\n",
    "    print('OOB Score: ',OOB)"
   ]
  },
  {
   "cell_type": "code",
   "execution_count": 63,
   "metadata": {},
   "outputs": [
    {
     "name": "stdout",
     "output_type": "stream",
     "text": [
      "1 min samples\n",
      "OOB:  0.8488726230389272\n",
      "2 min samples\n",
      "OOB:  0.8641005297775958\n",
      "3 min samples\n",
      "OOB:  0.8644844265861337\n",
      "4 min samples\n",
      "OOB:  0.8632559567988125\n",
      "5 min samples\n",
      "OOB:  0.8631535843165357\n",
      "6 min samples\n",
      "OOB:  0.8630256187136898\n",
      "7 min samples\n",
      "OOB:  0.8620274870114913\n",
      "8 min samples\n",
      "OOB:  0.8619763007703529\n",
      "9 min samples\n",
      "OOB:  0.8617715558057994\n",
      "10 min samples\n",
      "OOB:  0.8608757965858778\n"
     ]
    }
   ],
   "source": [
    "min_samples_leaf_options = [1, 2, 3, 4, 5, 6, 7, 8, 9, 10]\n",
    "\n",
    "for min_samples in min_samples_leaf_options:\n",
    "    model = RandomForestClassifier(n_estimators=200, oob_score=True, n_jobs=-1,min_samples_leaf=min_samples)\n",
    "    #model.fit(X, y)\n",
    "    model.fit(scaled_X_train, Y_train)\n",
    "    print(min_samples, \"min samples\")\n",
    "    OOB = model.oob_score_\n",
    "    print('OOB: ', OOB)"
   ]
  },
  {
   "cell_type": "code",
   "execution_count": 64,
   "metadata": {},
   "outputs": [
    {
     "name": "stdout",
     "output_type": "stream",
     "text": [
      "auto No_Of_features\n",
      "OOB:  0.8630256187136898\n",
      "None No_Of_features\n",
      "OOB:  0.8611061346710004\n",
      "sqrt No_Of_features\n",
      "OOB:  0.8629744324725513\n",
      "log2 No_Of_features\n",
      "OOB:  0.8605942722596166\n",
      "0.9 No_Of_features\n",
      "OOB:  0.8608757965858778\n",
      "0.2 No_Of_features\n",
      "OOB:  0.8649195096358099\n",
      "1 No_Of_features\n",
      "OOB:  0.7877818442402682\n"
     ]
    }
   ],
   "source": [
    "max_features_options = [\"auto\", None, \"sqrt\", \"log2\", 0.9, 0.2,1]\n",
    "\n",
    "for max_features in max_features_options:\n",
    "    model = RandomForestClassifier(n_estimators=200, oob_score=True, n_jobs=-1,min_samples_leaf=5,max_features=max_features)\n",
    "    model.fit(scaled_X_train,Y_train)\n",
    "    print(max_features, \"No_Of_features\")\n",
    "    OOB = model.oob_score_\n",
    "    print('OOB: ', OOB)"
   ]
  },
  {
   "cell_type": "code",
   "execution_count": 65,
   "metadata": {},
   "outputs": [
    {
     "data": {
      "text/plain": [
       "0.8636142604867811"
      ]
     },
     "execution_count": 65,
     "metadata": {},
     "output_type": "execute_result"
    }
   ],
   "source": [
    "model = RandomForestClassifier(n_estimators=200, \n",
    "                              oob_score=True, \n",
    "                              n_jobs=-1,  \n",
    "                              max_features=\"auto\", \n",
    "                              min_samples_leaf=5)\n",
    "model.fit(scaled_X_train,Y_train)\n",
    "model.oob_score_"
   ]
  },
  {
   "cell_type": "code",
   "execution_count": 66,
   "metadata": {},
   "outputs": [],
   "source": [
    "pred=model.predict(scaled_X_test)"
   ]
  },
  {
   "cell_type": "code",
   "execution_count": 67,
   "metadata": {},
   "outputs": [
    {
     "name": "stdout",
     "output_type": "stream",
     "text": [
      "[[7073  342]\n",
      " [ 948 1406]]\n"
     ]
    }
   ],
   "source": [
    "from sklearn.metrics import confusion_matrix\n",
    "print(confusion_matrix(Y_test, pred))"
   ]
  },
  {
   "cell_type": "code",
   "execution_count": 68,
   "metadata": {},
   "outputs": [
    {
     "name": "stdout",
     "output_type": "stream",
     "text": [
      "0.8679496366055891\n"
     ]
    }
   ],
   "source": [
    "from sklearn.metrics import accuracy_score\n",
    "print(accuracy_score(Y_test, pred))"
   ]
  },
  {
   "cell_type": "code",
   "execution_count": null,
   "metadata": {},
   "outputs": [],
   "source": []
  }
 ],
 "metadata": {
  "kernelspec": {
   "display_name": "Python 3",
   "language": "python",
   "name": "python3"
  },
  "language_info": {
   "codemirror_mode": {
    "name": "ipython",
    "version": 3
   },
   "file_extension": ".py",
   "mimetype": "text/x-python",
   "name": "python",
   "nbconvert_exporter": "python",
   "pygments_lexer": "ipython3",
   "version": "3.7.4"
  }
 },
 "nbformat": 4,
 "nbformat_minor": 2
}
